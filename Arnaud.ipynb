{
 "cells": [
  {
   "cell_type": "code",
   "execution_count": 4,
   "metadata": {},
   "outputs": [],
   "source": [
    "from constants import *\n",
    "from data_loading import *\n",
    "from data_cleaning import *\n",
    "from utils import *\n",
    "from embeddings import *\n",
    "from prediction import *\n",
    "\n",
    "#import warnings\n",
    "#warnings.filterwarnings(\"ignore\", category=DeprecationWarning)\n",
    "\n",
    "\n",
    "# load training set as DataFrame\n",
    "train = load_df(TRAIN_NEG, TRAIN_POS, TWEET, LABEL, LABEL_NEG, LABEL_POS)\n",
    "test = pd.DataFrame({TWEET: load_txt(TEST_DATA)})\n",
    "# set patterns to remove, replace, and replace with\n",
    "to_remove = \"<user>\"\n",
    "to_replace = \"[^a-zA-Z#]\"\n",
    "replace_value = \" \"\n",
    "# clean training set\n",
    "#train = clean(train, TWEET, CLEAN_TWEET, to_remove, to_replace, replace_value,option)\n",
    "\n",
    "def call_all_classify(train,test):\n",
    "    print(\"bow :\")\n",
    "    display(classify_bow(train,test))\n",
    "    print(\"tfidf :\")\n",
    "    display(classify_tfidf(train,test))\n",
    "    print(\"fasttext :\")\n",
    "    classify_fasttext(train,test, max_iter = 3)"
   ]
  },
  {
   "cell_type": "code",
   "execution_count": 5,
   "metadata": {},
   "outputs": [],
   "source": [
    "option = [0,0,0]"
   ]
  },
  {
   "cell_type": "code",
   "execution_count": 6,
   "metadata": {},
   "outputs": [
    {
     "data": {
      "text/html": [
       "<div>\n",
       "<style scoped>\n",
       "    .dataframe tbody tr th:only-of-type {\n",
       "        vertical-align: middle;\n",
       "    }\n",
       "\n",
       "    .dataframe tbody tr th {\n",
       "        vertical-align: top;\n",
       "    }\n",
       "\n",
       "    .dataframe thead th {\n",
       "        text-align: right;\n",
       "    }\n",
       "</style>\n",
       "<table border=\"1\" class=\"dataframe\">\n",
       "  <thead>\n",
       "    <tr style=\"text-align: right;\">\n",
       "      <th></th>\n",
       "      <th>tweet</th>\n",
       "      <th>label</th>\n",
       "      <th>clean_tweet</th>\n",
       "    </tr>\n",
       "    <tr>\n",
       "      <th>id</th>\n",
       "      <th></th>\n",
       "      <th></th>\n",
       "      <th></th>\n",
       "    </tr>\n",
       "  </thead>\n",
       "  <tbody>\n",
       "    <tr>\n",
       "      <th>0</th>\n",
       "      <td>vinco tresorpack 6 ( difficulty 10 of 10 objec...</td>\n",
       "      <td>0</td>\n",
       "      <td>vinco tresorpack 6 ( difficulty 10 of 10 objec...</td>\n",
       "    </tr>\n",
       "    <tr>\n",
       "      <th>1</th>\n",
       "      <td>glad i dot have taks tomorrow ! ! #thankful #s...</td>\n",
       "      <td>0</td>\n",
       "      <td>glad i dot have taks tomorrow ! ! #thankful #s...</td>\n",
       "    </tr>\n",
       "    <tr>\n",
       "      <th>2</th>\n",
       "      <td>1-3 vs celtics in the regular season = were fu...</td>\n",
       "      <td>0</td>\n",
       "      <td>1-3 vs celtics in the regular season = were fu...</td>\n",
       "    </tr>\n",
       "    <tr>\n",
       "      <th>3</th>\n",
       "      <td>&lt;user&gt; i could actually kill that girl i'm so ...</td>\n",
       "      <td>0</td>\n",
       "      <td>i could actually kill that girl i'm so sorry !...</td>\n",
       "    </tr>\n",
       "    <tr>\n",
       "      <th>4</th>\n",
       "      <td>&lt;user&gt; &lt;user&gt; &lt;user&gt; i find that very hard to ...</td>\n",
       "      <td>0</td>\n",
       "      <td>i find that very hard to believe im afraid</td>\n",
       "    </tr>\n",
       "  </tbody>\n",
       "</table>\n",
       "</div>"
      ],
      "text/plain": [
       "                                                tweet  label  \\\n",
       "id                                                             \n",
       "0   vinco tresorpack 6 ( difficulty 10 of 10 objec...      0   \n",
       "1   glad i dot have taks tomorrow ! ! #thankful #s...      0   \n",
       "2   1-3 vs celtics in the regular season = were fu...      0   \n",
       "3   <user> i could actually kill that girl i'm so ...      0   \n",
       "4   <user> <user> <user> i find that very hard to ...      0   \n",
       "\n",
       "                                          clean_tweet  \n",
       "id                                                     \n",
       "0   vinco tresorpack 6 ( difficulty 10 of 10 objec...  \n",
       "1   glad i dot have taks tomorrow ! ! #thankful #s...  \n",
       "2   1-3 vs celtics in the regular season = were fu...  \n",
       "3   i could actually kill that girl i'm so sorry !...  \n",
       "4          i find that very hard to believe im afraid  "
      ]
     },
     "metadata": {},
     "output_type": "display_data"
    },
    {
     "name": "stdout",
     "output_type": "stream",
     "text": [
      "bow :\n"
     ]
    },
    {
     "data": {
      "text/plain": [
       "0.7727129138236039"
      ]
     },
     "metadata": {},
     "output_type": "display_data"
    },
    {
     "name": "stdout",
     "output_type": "stream",
     "text": [
      "tfidf :\n"
     ]
    },
    {
     "data": {
      "text/plain": [
       "0.7720936160721399"
      ]
     },
     "metadata": {},
     "output_type": "display_data"
    },
    {
     "name": "stdout",
     "output_type": "stream",
     "text": [
      "fasttext :\n",
      "\u001b[1mclassifying:\u001b[0m 100.0%, best_acc=0.8294025284490992025284490992\n",
      "\n",
      "\n",
      "\n",
      "with steming ======================================================================================\n",
      "===================================================================================================\n",
      "with steming ======================================================================================\n",
      "===================================================================================================\n"
     ]
    },
    {
     "data": {
      "text/html": [
       "<div>\n",
       "<style scoped>\n",
       "    .dataframe tbody tr th:only-of-type {\n",
       "        vertical-align: middle;\n",
       "    }\n",
       "\n",
       "    .dataframe tbody tr th {\n",
       "        vertical-align: top;\n",
       "    }\n",
       "\n",
       "    .dataframe thead th {\n",
       "        text-align: right;\n",
       "    }\n",
       "</style>\n",
       "<table border=\"1\" class=\"dataframe\">\n",
       "  <thead>\n",
       "    <tr style=\"text-align: right;\">\n",
       "      <th></th>\n",
       "      <th>tweet</th>\n",
       "      <th>label</th>\n",
       "      <th>clean_tweet</th>\n",
       "      <th>label_prefixed</th>\n",
       "    </tr>\n",
       "    <tr>\n",
       "      <th>id</th>\n",
       "      <th></th>\n",
       "      <th></th>\n",
       "      <th></th>\n",
       "      <th></th>\n",
       "    </tr>\n",
       "  </thead>\n",
       "  <tbody>\n",
       "    <tr>\n",
       "      <th>0</th>\n",
       "      <td>vinco tresorpack 6 ( difficulty 10 of 10 objec...</td>\n",
       "      <td>0</td>\n",
       "      <td>vinco tresorpack 6 ( difficulti 10 of 10 objec...</td>\n",
       "      <td>__label__0</td>\n",
       "    </tr>\n",
       "    <tr>\n",
       "      <th>1</th>\n",
       "      <td>glad i dot have taks tomorrow ! ! #thankful #s...</td>\n",
       "      <td>0</td>\n",
       "      <td>glad i dot have tak tomorrow ! ! #thank #startho</td>\n",
       "      <td>__label__0</td>\n",
       "    </tr>\n",
       "    <tr>\n",
       "      <th>2</th>\n",
       "      <td>1-3 vs celtics in the regular season = were fu...</td>\n",
       "      <td>0</td>\n",
       "      <td>1-3 vs celtic in the regular season = were fuc...</td>\n",
       "      <td>__label__0</td>\n",
       "    </tr>\n",
       "    <tr>\n",
       "      <th>3</th>\n",
       "      <td>&lt;user&gt; i could actually kill that girl i'm so ...</td>\n",
       "      <td>0</td>\n",
       "      <td>i could actual kill that girl i'm so sorri ! ! !</td>\n",
       "      <td>__label__0</td>\n",
       "    </tr>\n",
       "    <tr>\n",
       "      <th>4</th>\n",
       "      <td>&lt;user&gt; &lt;user&gt; &lt;user&gt; i find that very hard to ...</td>\n",
       "      <td>0</td>\n",
       "      <td>i find that veri hard to believ im afraid</td>\n",
       "      <td>__label__0</td>\n",
       "    </tr>\n",
       "  </tbody>\n",
       "</table>\n",
       "</div>"
      ],
      "text/plain": [
       "                                                tweet  label  \\\n",
       "id                                                             \n",
       "0   vinco tresorpack 6 ( difficulty 10 of 10 objec...      0   \n",
       "1   glad i dot have taks tomorrow ! ! #thankful #s...      0   \n",
       "2   1-3 vs celtics in the regular season = were fu...      0   \n",
       "3   <user> i could actually kill that girl i'm so ...      0   \n",
       "4   <user> <user> <user> i find that very hard to ...      0   \n",
       "\n",
       "                                          clean_tweet label_prefixed  \n",
       "id                                                                    \n",
       "0   vinco tresorpack 6 ( difficulti 10 of 10 objec...    __label__0   \n",
       "1    glad i dot have tak tomorrow ! ! #thank #startho    __label__0   \n",
       "2   1-3 vs celtic in the regular season = were fuc...    __label__0   \n",
       "3    i could actual kill that girl i'm so sorri ! ! !    __label__0   \n",
       "4           i find that veri hard to believ im afraid    __label__0   "
      ]
     },
     "metadata": {},
     "output_type": "display_data"
    },
    {
     "name": "stdout",
     "output_type": "stream",
     "text": [
      "bow :\n"
     ]
    },
    {
     "data": {
      "text/plain": [
       "0.7788307887034253"
      ]
     },
     "metadata": {},
     "output_type": "display_data"
    },
    {
     "name": "stdout",
     "output_type": "stream",
     "text": [
      "tfidf :\n"
     ]
    },
    {
     "data": {
      "text/plain": [
       "0.7767193047277868"
      ]
     },
     "metadata": {},
     "output_type": "display_data"
    },
    {
     "name": "stdout",
     "output_type": "stream",
     "text": [
      "fasttext :\n",
      "\u001b[1mclassifying:\u001b[0m 100.0%, best_acc=0.8277319737330386804434015697\n",
      "\n",
      "\n",
      "\n",
      "with removed stop words ===========================================================================\n",
      "===================================================================================================\n",
      "with removed stop words ===========================================================================\n",
      "===================================================================================================\n"
     ]
    },
    {
     "data": {
      "text/html": [
       "<div>\n",
       "<style scoped>\n",
       "    .dataframe tbody tr th:only-of-type {\n",
       "        vertical-align: middle;\n",
       "    }\n",
       "\n",
       "    .dataframe tbody tr th {\n",
       "        vertical-align: top;\n",
       "    }\n",
       "\n",
       "    .dataframe thead th {\n",
       "        text-align: right;\n",
       "    }\n",
       "</style>\n",
       "<table border=\"1\" class=\"dataframe\">\n",
       "  <thead>\n",
       "    <tr style=\"text-align: right;\">\n",
       "      <th></th>\n",
       "      <th>tweet</th>\n",
       "      <th>label</th>\n",
       "      <th>clean_tweet</th>\n",
       "      <th>label_prefixed</th>\n",
       "    </tr>\n",
       "    <tr>\n",
       "      <th>id</th>\n",
       "      <th></th>\n",
       "      <th></th>\n",
       "      <th></th>\n",
       "      <th></th>\n",
       "    </tr>\n",
       "  </thead>\n",
       "  <tbody>\n",
       "    <tr>\n",
       "      <th>0</th>\n",
       "      <td>vinco tresorpack 6 ( difficulty 10 of 10 objec...</td>\n",
       "      <td>0</td>\n",
       "      <td>vinco tresorpack 6 ( difficulty 10 10 object :...</td>\n",
       "      <td>__label__0</td>\n",
       "    </tr>\n",
       "    <tr>\n",
       "      <th>1</th>\n",
       "      <td>glad i dot have taks tomorrow ! ! #thankful #s...</td>\n",
       "      <td>0</td>\n",
       "      <td>glad dot taks tomorrow ! ! #thankful #startho</td>\n",
       "      <td>__label__0</td>\n",
       "    </tr>\n",
       "    <tr>\n",
       "      <th>2</th>\n",
       "      <td>1-3 vs celtics in the regular season = were fu...</td>\n",
       "      <td>0</td>\n",
       "      <td>1-3 vs celtics regular season = fucked play pl...</td>\n",
       "      <td>__label__0</td>\n",
       "    </tr>\n",
       "    <tr>\n",
       "      <th>3</th>\n",
       "      <td>&lt;user&gt; i could actually kill that girl i'm so ...</td>\n",
       "      <td>0</td>\n",
       "      <td>could actually kill girl i'm sorry ! ! !</td>\n",
       "      <td>__label__0</td>\n",
       "    </tr>\n",
       "    <tr>\n",
       "      <th>4</th>\n",
       "      <td>&lt;user&gt; &lt;user&gt; &lt;user&gt; i find that very hard to ...</td>\n",
       "      <td>0</td>\n",
       "      <td>find hard believe im afraid</td>\n",
       "      <td>__label__0</td>\n",
       "    </tr>\n",
       "  </tbody>\n",
       "</table>\n",
       "</div>"
      ],
      "text/plain": [
       "                                                tweet  label  \\\n",
       "id                                                             \n",
       "0   vinco tresorpack 6 ( difficulty 10 of 10 objec...      0   \n",
       "1   glad i dot have taks tomorrow ! ! #thankful #s...      0   \n",
       "2   1-3 vs celtics in the regular season = were fu...      0   \n",
       "3   <user> i could actually kill that girl i'm so ...      0   \n",
       "4   <user> <user> <user> i find that very hard to ...      0   \n",
       "\n",
       "                                          clean_tweet label_prefixed  \n",
       "id                                                                    \n",
       "0   vinco tresorpack 6 ( difficulty 10 10 object :...    __label__0   \n",
       "1       glad dot taks tomorrow ! ! #thankful #startho    __label__0   \n",
       "2   1-3 vs celtics regular season = fucked play pl...    __label__0   \n",
       "3            could actually kill girl i'm sorry ! ! !    __label__0   \n",
       "4                         find hard believe im afraid    __label__0   "
      ]
     },
     "metadata": {},
     "output_type": "display_data"
    },
    {
     "name": "stdout",
     "output_type": "stream",
     "text": [
      "bow :\n"
     ]
    },
    {
     "data": {
      "text/plain": [
       "0.7695041595244462"
      ]
     },
     "metadata": {},
     "output_type": "display_data"
    },
    {
     "name": "stdout",
     "output_type": "stream",
     "text": [
      "tfidf :\n"
     ]
    },
    {
     "data": {
      "text/plain": [
       "0.7682106598984771"
      ]
     },
     "metadata": {},
     "output_type": "display_data"
    },
    {
     "name": "stdout",
     "output_type": "stream",
     "text": [
      "fasttext :\n",
      "\u001b[1mclassifying:\u001b[0m 100.0%, best_acc=0.8122400763791123400763791123\n",
      "\n",
      "\n",
      "\n",
      "with removed stop words ===========================================================================\n",
      "===================================================================================================\n",
      "with steming ======================================================================================\n",
      "===================================================================================================\n",
      "with removed stop words ===========================================================================\n",
      "===================================================================================================\n",
      "with steming ======================================================================================\n",
      "===================================================================================================\n"
     ]
    },
    {
     "data": {
      "text/html": [
       "<div>\n",
       "<style scoped>\n",
       "    .dataframe tbody tr th:only-of-type {\n",
       "        vertical-align: middle;\n",
       "    }\n",
       "\n",
       "    .dataframe tbody tr th {\n",
       "        vertical-align: top;\n",
       "    }\n",
       "\n",
       "    .dataframe thead th {\n",
       "        text-align: right;\n",
       "    }\n",
       "</style>\n",
       "<table border=\"1\" class=\"dataframe\">\n",
       "  <thead>\n",
       "    <tr style=\"text-align: right;\">\n",
       "      <th></th>\n",
       "      <th>tweet</th>\n",
       "      <th>label</th>\n",
       "      <th>clean_tweet</th>\n",
       "      <th>label_prefixed</th>\n",
       "    </tr>\n",
       "    <tr>\n",
       "      <th>id</th>\n",
       "      <th></th>\n",
       "      <th></th>\n",
       "      <th></th>\n",
       "      <th></th>\n",
       "    </tr>\n",
       "  </thead>\n",
       "  <tbody>\n",
       "    <tr>\n",
       "      <th>0</th>\n",
       "      <td>vinco tresorpack 6 ( difficulty 10 of 10 objec...</td>\n",
       "      <td>0</td>\n",
       "      <td>vinco tresorpack 6 ( difficulti 10 10 object :...</td>\n",
       "      <td>__label__0</td>\n",
       "    </tr>\n",
       "    <tr>\n",
       "      <th>1</th>\n",
       "      <td>glad i dot have taks tomorrow ! ! #thankful #s...</td>\n",
       "      <td>0</td>\n",
       "      <td>glad dot tak tomorrow ! ! #thank #startho</td>\n",
       "      <td>__label__0</td>\n",
       "    </tr>\n",
       "    <tr>\n",
       "      <th>2</th>\n",
       "      <td>1-3 vs celtics in the regular season = were fu...</td>\n",
       "      <td>0</td>\n",
       "      <td>1-3 vs celtic regular season = fuck play playoff</td>\n",
       "      <td>__label__0</td>\n",
       "    </tr>\n",
       "    <tr>\n",
       "      <th>3</th>\n",
       "      <td>&lt;user&gt; i could actually kill that girl i'm so ...</td>\n",
       "      <td>0</td>\n",
       "      <td>could actual kill girl i'm sorri ! ! !</td>\n",
       "      <td>__label__0</td>\n",
       "    </tr>\n",
       "    <tr>\n",
       "      <th>4</th>\n",
       "      <td>&lt;user&gt; &lt;user&gt; &lt;user&gt; i find that very hard to ...</td>\n",
       "      <td>0</td>\n",
       "      <td>find hard believ im afraid</td>\n",
       "      <td>__label__0</td>\n",
       "    </tr>\n",
       "  </tbody>\n",
       "</table>\n",
       "</div>"
      ],
      "text/plain": [
       "                                                tweet  label  \\\n",
       "id                                                             \n",
       "0   vinco tresorpack 6 ( difficulty 10 of 10 objec...      0   \n",
       "1   glad i dot have taks tomorrow ! ! #thankful #s...      0   \n",
       "2   1-3 vs celtics in the regular season = were fu...      0   \n",
       "3   <user> i could actually kill that girl i'm so ...      0   \n",
       "4   <user> <user> <user> i find that very hard to ...      0   \n",
       "\n",
       "                                          clean_tweet label_prefixed  \n",
       "id                                                                    \n",
       "0   vinco tresorpack 6 ( difficulti 10 10 object :...    __label__0   \n",
       "1           glad dot tak tomorrow ! ! #thank #startho    __label__0   \n",
       "2    1-3 vs celtic regular season = fuck play playoff    __label__0   \n",
       "3              could actual kill girl i'm sorri ! ! !    __label__0   \n",
       "4                          find hard believ im afraid    __label__0   "
      ]
     },
     "metadata": {},
     "output_type": "display_data"
    },
    {
     "name": "stdout",
     "output_type": "stream",
     "text": [
      "bow :\n"
     ]
    },
    {
     "data": {
      "text/plain": [
       "0.7736006420444711"
      ]
     },
     "metadata": {},
     "output_type": "display_data"
    },
    {
     "name": "stdout",
     "output_type": "stream",
     "text": [
      "tfidf :\n"
     ]
    },
    {
     "data": {
      "text/plain": [
       "0.771005888830373"
      ]
     },
     "metadata": {},
     "output_type": "display_data"
    },
    {
     "name": "stdout",
     "output_type": "stream",
     "text": [
      "fasttext :\n",
      "\u001b[1mclassifying:\u001b[0m 100.0%, best_acc=0.8105696969696969982345421299\n",
      "\n",
      "\n",
      "\n",
      "with replace pattern ==============================================================================\n",
      "===================================================================================================\n",
      "with replace pattern ==============================================================================\n",
      "===================================================================================================\n"
     ]
    },
    {
     "data": {
      "text/html": [
       "<div>\n",
       "<style scoped>\n",
       "    .dataframe tbody tr th:only-of-type {\n",
       "        vertical-align: middle;\n",
       "    }\n",
       "\n",
       "    .dataframe tbody tr th {\n",
       "        vertical-align: top;\n",
       "    }\n",
       "\n",
       "    .dataframe thead th {\n",
       "        text-align: right;\n",
       "    }\n",
       "</style>\n",
       "<table border=\"1\" class=\"dataframe\">\n",
       "  <thead>\n",
       "    <tr style=\"text-align: right;\">\n",
       "      <th></th>\n",
       "      <th>tweet</th>\n",
       "      <th>label</th>\n",
       "      <th>clean_tweet</th>\n",
       "      <th>label_prefixed</th>\n",
       "    </tr>\n",
       "    <tr>\n",
       "      <th>id</th>\n",
       "      <th></th>\n",
       "      <th></th>\n",
       "      <th></th>\n",
       "      <th></th>\n",
       "    </tr>\n",
       "  </thead>\n",
       "  <tbody>\n",
       "    <tr>\n",
       "      <th>0</th>\n",
       "      <td>vinco tresorpack 6 ( difficulty 10 of 10 objec...</td>\n",
       "      <td>0</td>\n",
       "      <td>vinco tresorpack difficulty of object disassem...</td>\n",
       "      <td>__label__0</td>\n",
       "    </tr>\n",
       "    <tr>\n",
       "      <th>1</th>\n",
       "      <td>glad i dot have taks tomorrow ! ! #thankful #s...</td>\n",
       "      <td>0</td>\n",
       "      <td>glad i dot have taks tomorrow #thankful #startho</td>\n",
       "      <td>__label__0</td>\n",
       "    </tr>\n",
       "    <tr>\n",
       "      <th>2</th>\n",
       "      <td>1-3 vs celtics in the regular season = were fu...</td>\n",
       "      <td>0</td>\n",
       "      <td>vs celtics in the regular season were fucked i...</td>\n",
       "      <td>__label__0</td>\n",
       "    </tr>\n",
       "    <tr>\n",
       "      <th>3</th>\n",
       "      <td>&lt;user&gt; i could actually kill that girl i'm so ...</td>\n",
       "      <td>0</td>\n",
       "      <td>i could actually kill that girl i m so sorry</td>\n",
       "      <td>__label__0</td>\n",
       "    </tr>\n",
       "    <tr>\n",
       "      <th>4</th>\n",
       "      <td>&lt;user&gt; &lt;user&gt; &lt;user&gt; i find that very hard to ...</td>\n",
       "      <td>0</td>\n",
       "      <td>i find that very hard to believe im afraid</td>\n",
       "      <td>__label__0</td>\n",
       "    </tr>\n",
       "  </tbody>\n",
       "</table>\n",
       "</div>"
      ],
      "text/plain": [
       "                                                tweet  label  \\\n",
       "id                                                             \n",
       "0   vinco tresorpack 6 ( difficulty 10 of 10 objec...      0   \n",
       "1   glad i dot have taks tomorrow ! ! #thankful #s...      0   \n",
       "2   1-3 vs celtics in the regular season = were fu...      0   \n",
       "3   <user> i could actually kill that girl i'm so ...      0   \n",
       "4   <user> <user> <user> i find that very hard to ...      0   \n",
       "\n",
       "                                          clean_tweet label_prefixed  \n",
       "id                                                                    \n",
       "0   vinco tresorpack difficulty of object disassem...    __label__0   \n",
       "1    glad i dot have taks tomorrow #thankful #startho    __label__0   \n",
       "2   vs celtics in the regular season were fucked i...    __label__0   \n",
       "3        i could actually kill that girl i m so sorry    __label__0   \n",
       "4          i find that very hard to believe im afraid    __label__0   "
      ]
     },
     "metadata": {},
     "output_type": "display_data"
    },
    {
     "name": "stdout",
     "output_type": "stream",
     "text": [
      "bow :\n"
     ]
    },
    {
     "data": {
      "text/plain": [
       "0.773842219907188"
      ]
     },
     "metadata": {},
     "output_type": "display_data"
    },
    {
     "name": "stdout",
     "output_type": "stream",
     "text": [
      "tfidf :\n"
     ]
    },
    {
     "data": {
      "text/plain": [
       "0.7728950550499586"
      ]
     },
     "metadata": {},
     "output_type": "display_data"
    },
    {
     "name": "stdout",
     "output_type": "stream",
     "text": [
      "fasttext :\n",
      "\u001b[1mclassifying:\u001b[0m 100.0%, best_acc=0.8102538821789499538821789499\n",
      "\n",
      "\n",
      "\n",
      "with replace pattern ==============================================================================\n",
      "===================================================================================================\n",
      "with steming ======================================================================================\n",
      "===================================================================================================\n",
      "with replace pattern ==============================================================================\n",
      "===================================================================================================\n",
      "with steming ======================================================================================\n",
      "===================================================================================================\n"
     ]
    },
    {
     "data": {
      "text/html": [
       "<div>\n",
       "<style scoped>\n",
       "    .dataframe tbody tr th:only-of-type {\n",
       "        vertical-align: middle;\n",
       "    }\n",
       "\n",
       "    .dataframe tbody tr th {\n",
       "        vertical-align: top;\n",
       "    }\n",
       "\n",
       "    .dataframe thead th {\n",
       "        text-align: right;\n",
       "    }\n",
       "</style>\n",
       "<table border=\"1\" class=\"dataframe\">\n",
       "  <thead>\n",
       "    <tr style=\"text-align: right;\">\n",
       "      <th></th>\n",
       "      <th>tweet</th>\n",
       "      <th>label</th>\n",
       "      <th>clean_tweet</th>\n",
       "      <th>label_prefixed</th>\n",
       "    </tr>\n",
       "    <tr>\n",
       "      <th>id</th>\n",
       "      <th></th>\n",
       "      <th></th>\n",
       "      <th></th>\n",
       "      <th></th>\n",
       "    </tr>\n",
       "  </thead>\n",
       "  <tbody>\n",
       "    <tr>\n",
       "      <th>0</th>\n",
       "      <td>vinco tresorpack 6 ( difficulty 10 of 10 objec...</td>\n",
       "      <td>0</td>\n",
       "      <td>vinco tresorpack difficulti of object disassem...</td>\n",
       "      <td>__label__0</td>\n",
       "    </tr>\n",
       "    <tr>\n",
       "      <th>1</th>\n",
       "      <td>glad i dot have taks tomorrow ! ! #thankful #s...</td>\n",
       "      <td>0</td>\n",
       "      <td>glad i dot have tak tomorrow #thank #startho</td>\n",
       "      <td>__label__0</td>\n",
       "    </tr>\n",
       "    <tr>\n",
       "      <th>2</th>\n",
       "      <td>1-3 vs celtics in the regular season = were fu...</td>\n",
       "      <td>0</td>\n",
       "      <td>vs celtic in the regular season were fuck if w...</td>\n",
       "      <td>__label__0</td>\n",
       "    </tr>\n",
       "    <tr>\n",
       "      <th>3</th>\n",
       "      <td>&lt;user&gt; i could actually kill that girl i'm so ...</td>\n",
       "      <td>0</td>\n",
       "      <td>i could actual kill that girl i m so sorri</td>\n",
       "      <td>__label__0</td>\n",
       "    </tr>\n",
       "    <tr>\n",
       "      <th>4</th>\n",
       "      <td>&lt;user&gt; &lt;user&gt; &lt;user&gt; i find that very hard to ...</td>\n",
       "      <td>0</td>\n",
       "      <td>i find that veri hard to believ im afraid</td>\n",
       "      <td>__label__0</td>\n",
       "    </tr>\n",
       "  </tbody>\n",
       "</table>\n",
       "</div>"
      ],
      "text/plain": [
       "                                                tweet  label  \\\n",
       "id                                                             \n",
       "0   vinco tresorpack 6 ( difficulty 10 of 10 objec...      0   \n",
       "1   glad i dot have taks tomorrow ! ! #thankful #s...      0   \n",
       "2   1-3 vs celtics in the regular season = were fu...      0   \n",
       "3   <user> i could actually kill that girl i'm so ...      0   \n",
       "4   <user> <user> <user> i find that very hard to ...      0   \n",
       "\n",
       "                                          clean_tweet label_prefixed  \n",
       "id                                                                    \n",
       "0   vinco tresorpack difficulti of object disassem...    __label__0   \n",
       "1        glad i dot have tak tomorrow #thank #startho    __label__0   \n",
       "2   vs celtic in the regular season were fuck if w...    __label__0   \n",
       "3          i could actual kill that girl i m so sorri    __label__0   \n",
       "4           i find that veri hard to believ im afraid    __label__0   "
      ]
     },
     "metadata": {},
     "output_type": "display_data"
    },
    {
     "name": "stdout",
     "output_type": "stream",
     "text": [
      "bow :\n"
     ]
    },
    {
     "data": {
      "text/plain": [
       "0.7784372378646154"
      ]
     },
     "metadata": {},
     "output_type": "display_data"
    },
    {
     "name": "stdout",
     "output_type": "stream",
     "text": [
      "tfidf :\n"
     ]
    },
    {
     "data": {
      "text/plain": [
       "0.7764350453172206"
      ]
     },
     "metadata": {},
     "output_type": "display_data"
    },
    {
     "name": "stdout",
     "output_type": "stream",
     "text": [
      "fasttext :\n",
      "\u001b[1mclassifying:\u001b[0m 100.0%, best_acc=0.8078219385512155748477078603\n",
      "\n",
      "\n",
      "\n",
      "with replace pattern ==============================================================================\n",
      "===================================================================================================\n",
      "with removed stop words ===========================================================================\n",
      "===================================================================================================\n",
      "with replace pattern ==============================================================================\n",
      "===================================================================================================\n",
      "with removed stop words ===========================================================================\n",
      "===================================================================================================\n"
     ]
    },
    {
     "data": {
      "text/html": [
       "<div>\n",
       "<style scoped>\n",
       "    .dataframe tbody tr th:only-of-type {\n",
       "        vertical-align: middle;\n",
       "    }\n",
       "\n",
       "    .dataframe tbody tr th {\n",
       "        vertical-align: top;\n",
       "    }\n",
       "\n",
       "    .dataframe thead th {\n",
       "        text-align: right;\n",
       "    }\n",
       "</style>\n",
       "<table border=\"1\" class=\"dataframe\">\n",
       "  <thead>\n",
       "    <tr style=\"text-align: right;\">\n",
       "      <th></th>\n",
       "      <th>tweet</th>\n",
       "      <th>label</th>\n",
       "      <th>clean_tweet</th>\n",
       "      <th>label_prefixed</th>\n",
       "    </tr>\n",
       "    <tr>\n",
       "      <th>id</th>\n",
       "      <th></th>\n",
       "      <th></th>\n",
       "      <th></th>\n",
       "      <th></th>\n",
       "    </tr>\n",
       "  </thead>\n",
       "  <tbody>\n",
       "    <tr>\n",
       "      <th>0</th>\n",
       "      <td>vinco tresorpack 6 ( difficulty 10 of 10 objec...</td>\n",
       "      <td>0</td>\n",
       "      <td>vinco tresorpack difficulty object disassemble...</td>\n",
       "      <td>__label__0</td>\n",
       "    </tr>\n",
       "    <tr>\n",
       "      <th>1</th>\n",
       "      <td>glad i dot have taks tomorrow ! ! #thankful #s...</td>\n",
       "      <td>0</td>\n",
       "      <td>glad dot taks tomorrow #thankful #startho</td>\n",
       "      <td>__label__0</td>\n",
       "    </tr>\n",
       "    <tr>\n",
       "      <th>2</th>\n",
       "      <td>1-3 vs celtics in the regular season = were fu...</td>\n",
       "      <td>0</td>\n",
       "      <td>vs celtics regular season fucked play playoffs</td>\n",
       "      <td>__label__0</td>\n",
       "    </tr>\n",
       "    <tr>\n",
       "      <th>3</th>\n",
       "      <td>&lt;user&gt; i could actually kill that girl i'm so ...</td>\n",
       "      <td>0</td>\n",
       "      <td>could actually kill girl sorry</td>\n",
       "      <td>__label__0</td>\n",
       "    </tr>\n",
       "    <tr>\n",
       "      <th>4</th>\n",
       "      <td>&lt;user&gt; &lt;user&gt; &lt;user&gt; i find that very hard to ...</td>\n",
       "      <td>0</td>\n",
       "      <td>find hard believe im afraid</td>\n",
       "      <td>__label__0</td>\n",
       "    </tr>\n",
       "  </tbody>\n",
       "</table>\n",
       "</div>"
      ],
      "text/plain": [
       "                                                tweet  label  \\\n",
       "id                                                             \n",
       "0   vinco tresorpack 6 ( difficulty 10 of 10 objec...      0   \n",
       "1   glad i dot have taks tomorrow ! ! #thankful #s...      0   \n",
       "2   1-3 vs celtics in the regular season = were fu...      0   \n",
       "3   <user> i could actually kill that girl i'm so ...      0   \n",
       "4   <user> <user> <user> i find that very hard to ...      0   \n",
       "\n",
       "                                          clean_tweet label_prefixed  \n",
       "id                                                                    \n",
       "0   vinco tresorpack difficulty object disassemble...    __label__0   \n",
       "1           glad dot taks tomorrow #thankful #startho    __label__0   \n",
       "2      vs celtics regular season fucked play playoffs    __label__0   \n",
       "3                      could actually kill girl sorry    __label__0   \n",
       "4                         find hard believe im afraid    __label__0   "
      ]
     },
     "metadata": {},
     "output_type": "display_data"
    },
    {
     "name": "stdout",
     "output_type": "stream",
     "text": [
      "bow :\n"
     ]
    },
    {
     "data": {
      "text/plain": [
       "0.7701619242257506"
      ]
     },
     "metadata": {},
     "output_type": "display_data"
    },
    {
     "name": "stdout",
     "output_type": "stream",
     "text": [
      "tfidf :\n"
     ]
    },
    {
     "data": {
      "text/plain": [
       "0.7683599695585996"
      ]
     },
     "metadata": {},
     "output_type": "display_data"
    },
    {
     "name": "stdout",
     "output_type": "stream",
     "text": [
      "fasttext :\n",
      "\u001b[1mclassifying:\u001b[0m 100.0%, best_acc=0.7898256663312015256663312015\n",
      "\n",
      "\n",
      "\n",
      "with replace pattern ==============================================================================\n",
      "===================================================================================================\n",
      "with removed stop words ===========================================================================\n",
      "===================================================================================================\n",
      "with steming ======================================================================================\n",
      "===================================================================================================\n",
      "with replace pattern ==============================================================================\n",
      "===================================================================================================\n",
      "with removed stop words ===========================================================================\n",
      "===================================================================================================\n",
      "with steming ======================================================================================\n",
      "===================================================================================================\n"
     ]
    },
    {
     "data": {
      "text/html": [
       "<div>\n",
       "<style scoped>\n",
       "    .dataframe tbody tr th:only-of-type {\n",
       "        vertical-align: middle;\n",
       "    }\n",
       "\n",
       "    .dataframe tbody tr th {\n",
       "        vertical-align: top;\n",
       "    }\n",
       "\n",
       "    .dataframe thead th {\n",
       "        text-align: right;\n",
       "    }\n",
       "</style>\n",
       "<table border=\"1\" class=\"dataframe\">\n",
       "  <thead>\n",
       "    <tr style=\"text-align: right;\">\n",
       "      <th></th>\n",
       "      <th>tweet</th>\n",
       "      <th>label</th>\n",
       "      <th>clean_tweet</th>\n",
       "      <th>label_prefixed</th>\n",
       "    </tr>\n",
       "    <tr>\n",
       "      <th>id</th>\n",
       "      <th></th>\n",
       "      <th></th>\n",
       "      <th></th>\n",
       "      <th></th>\n",
       "    </tr>\n",
       "  </thead>\n",
       "  <tbody>\n",
       "    <tr>\n",
       "      <th>0</th>\n",
       "      <td>vinco tresorpack 6 ( difficulty 10 of 10 objec...</td>\n",
       "      <td>0</td>\n",
       "      <td>vinco tresorpack difficulti object disassembl ...</td>\n",
       "      <td>__label__0</td>\n",
       "    </tr>\n",
       "    <tr>\n",
       "      <th>1</th>\n",
       "      <td>glad i dot have taks tomorrow ! ! #thankful #s...</td>\n",
       "      <td>0</td>\n",
       "      <td>glad dot tak tomorrow #thank #startho</td>\n",
       "      <td>__label__0</td>\n",
       "    </tr>\n",
       "    <tr>\n",
       "      <th>2</th>\n",
       "      <td>1-3 vs celtics in the regular season = were fu...</td>\n",
       "      <td>0</td>\n",
       "      <td>vs celtic regular season fuck play playoff</td>\n",
       "      <td>__label__0</td>\n",
       "    </tr>\n",
       "    <tr>\n",
       "      <th>3</th>\n",
       "      <td>&lt;user&gt; i could actually kill that girl i'm so ...</td>\n",
       "      <td>0</td>\n",
       "      <td>could actual kill girl sorri</td>\n",
       "      <td>__label__0</td>\n",
       "    </tr>\n",
       "    <tr>\n",
       "      <th>4</th>\n",
       "      <td>&lt;user&gt; &lt;user&gt; &lt;user&gt; i find that very hard to ...</td>\n",
       "      <td>0</td>\n",
       "      <td>find hard believ im afraid</td>\n",
       "      <td>__label__0</td>\n",
       "    </tr>\n",
       "  </tbody>\n",
       "</table>\n",
       "</div>"
      ],
      "text/plain": [
       "                                                tweet  label  \\\n",
       "id                                                             \n",
       "0   vinco tresorpack 6 ( difficulty 10 of 10 objec...      0   \n",
       "1   glad i dot have taks tomorrow ! ! #thankful #s...      0   \n",
       "2   1-3 vs celtics in the regular season = were fu...      0   \n",
       "3   <user> i could actually kill that girl i'm so ...      0   \n",
       "4   <user> <user> <user> i find that very hard to ...      0   \n",
       "\n",
       "                                          clean_tweet label_prefixed  \n",
       "id                                                                    \n",
       "0   vinco tresorpack difficulti object disassembl ...    __label__0   \n",
       "1               glad dot tak tomorrow #thank #startho    __label__0   \n",
       "2          vs celtic regular season fuck play playoff    __label__0   \n",
       "3                        could actual kill girl sorri    __label__0   \n",
       "4                          find hard believ im afraid    __label__0   "
      ]
     },
     "metadata": {},
     "output_type": "display_data"
    },
    {
     "name": "stdout",
     "output_type": "stream",
     "text": [
      "bow :\n"
     ]
    },
    {
     "data": {
      "text/plain": [
       "0.774358893728086"
      ]
     },
     "metadata": {},
     "output_type": "display_data"
    },
    {
     "name": "stdout",
     "output_type": "stream",
     "text": [
      "tfidf :\n"
     ]
    },
    {
     "data": {
      "text/plain": [
       "0.7709616673582076"
      ]
     },
     "metadata": {},
     "output_type": "display_data"
    },
    {
     "name": "stdout",
     "output_type": "stream",
     "text": [
      "fasttext :\n",
      "\u001b[1mclassifying:\u001b[0m 100.0%, best_acc=0.7857712657712658712657712658\n",
      "\n",
      "\n",
      "\n"
     ]
    }
   ],
   "source": [
    "for i in range(0,2) :\n",
    "    for j in range(0,2) :\n",
    "        for k in range(0,2) :\n",
    "            option[0] = i\n",
    "            option[1] = j\n",
    "            option[2] = k\n",
    "            train = clean(train, TWEET, CLEAN_TWEET, to_remove, to_replace, replace_value,option)\n",
    "            test = clean(test, TWEET, CLEAN_TWEET, to_remove, to_replace, replace_value,option)\n",
    "            display(train.head())\n",
    "            call_all_classify(train,test)"
   ]
  },
  {
   "cell_type": "code",
   "execution_count": null,
   "metadata": {},
   "outputs": [],
   "source": []
  }
 ],
 "metadata": {
  "kernelspec": {
   "display_name": "Python 3",
   "language": "python",
   "name": "python3"
  },
  "language_info": {
   "codemirror_mode": {
    "name": "ipython",
    "version": 3
   },
   "file_extension": ".py",
   "mimetype": "text/x-python",
   "name": "python",
   "nbconvert_exporter": "python",
   "pygments_lexer": "ipython3",
   "version": "3.7.0"
  }
 },
 "nbformat": 4,
 "nbformat_minor": 2
}
