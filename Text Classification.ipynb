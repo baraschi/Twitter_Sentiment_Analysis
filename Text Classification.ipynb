{
 "cells": [
  {
   "cell_type": "markdown",
   "metadata": {},
   "source": [
    "### Important \n",
    "This notebook is used to run code (like a main.py) __only__.\n",
    "\n",
    "All methods must be written in separate .py files. \n",
    "\n",
    "Allowed here: Imports, data loading, method calling. \n",
    "\n",
    "In order for the first part to work, we assume that the run.sh has been executed."
   ]
  },
  {
   "cell_type": "markdown",
   "metadata": {},
   "source": [
    "# Building a Text Classifier"
   ]
  },
  {
   "cell_type": "markdown",
   "metadata": {},
   "source": [
    "Imports"
   ]
  },
  {
   "cell_type": "code",
   "execution_count": 1,
   "metadata": {},
   "outputs": [],
   "source": [
    "import pandas as pd\n",
    "import sklearn as sk\n",
    "import numpy as np\n",
    "import matplotlib\n",
    "import pickle as pkl"
   ]
  },
  {
   "cell_type": "markdown",
   "metadata": {},
   "source": [
    "Constants"
   ]
  },
  {
   "cell_type": "code",
   "execution_count": 2,
   "metadata": {},
   "outputs": [],
   "source": [
    "DATA_FOLDER = 'data/'\n",
    "TWITTER_FOLDER = 'twitter-datasets/'"
   ]
  },
  {
   "cell_type": "markdown",
   "metadata": {},
   "source": [
    "### 1. Construct Features for the Training Texts\n",
    "Load the training tweets and the built GloVe word embeddings. "
   ]
  },
  {
   "cell_type": "code",
   "execution_count": 3,
   "metadata": {},
   "outputs": [],
   "source": [
    "#Load partial datasets for now. \n",
    "#read_table automatically uses the new line as a separator. \n",
    "train_neg = open(DATA_FOLDER+TWITTER_FOLDER+\"train_neg.txt\").readlines()\n",
    "train_pos = open(DATA_FOLDER+TWITTER_FOLDER+\"train_pos.txt\").readlines()"
   ]
  },
  {
   "cell_type": "code",
   "execution_count": 4,
   "metadata": {},
   "outputs": [],
   "source": [
    "#Load embeddings\n",
    "embeddings = np.load('embeddings.npy')"
   ]
  },
  {
   "cell_type": "code",
   "execution_count": 5,
   "metadata": {},
   "outputs": [],
   "source": [
    "#Load vocabulary\n",
    "with open('vocab.pkl', 'rb') as f:\n",
    "        vocab = pkl.load(f)"
   ]
  },
  {
   "cell_type": "markdown",
   "metadata": {},
   "source": [
    "Using the word embeddings, construct a feature representation of each training tweet (by averaging the word vectors over all words of the tweet)."
   ]
  },
  {
   "cell_type": "code",
   "execution_count": null,
   "metadata": {},
   "outputs": [],
   "source": [
    "def feature_representation(data):\n",
    "    tot_words = 0\n",
    "    nb_lines =  np.shape(data)[0]\n",
    "    word_count = np.zeros(nb_lines)\n",
    "    for i in range(nb_lines):\n",
    "        #array of words for tweet i\n",
    "        words = data[i].split()\n",
    "        #number of words in word array\n",
    "        nb_words =  len(words)\n",
    "        #set word count for word vector i\n",
    "        word_count[i] = nb_words\n",
    "        #increment total number of tweets\n",
    "        tot_words += nb_words\n",
    "    #return average of word vectors over all words of the tweet\n",
    "    return word_count/tot_words"
   ]
  },
  {
   "cell_type": "code",
   "execution_count": 30,
   "metadata": {},
   "outputs": [],
   "source": [
    "features_neg = feature_representation(train_neg)\n",
    "features_pos = feature_representation(train_pos)"
   ]
  },
  {
   "cell_type": "code",
   "execution_count": null,
   "metadata": {},
   "outputs": [],
   "source": []
  }
 ],
 "metadata": {
  "kernelspec": {
   "display_name": "Python 3",
   "language": "python",
   "name": "python3"
  },
  "language_info": {
   "codemirror_mode": {
    "name": "ipython",
    "version": 3
   },
   "file_extension": ".py",
   "mimetype": "text/x-python",
   "name": "python",
   "nbconvert_exporter": "python",
   "pygments_lexer": "ipython3",
   "version": "3.6.4"
  }
 },
 "nbformat": 4,
 "nbformat_minor": 2
}
