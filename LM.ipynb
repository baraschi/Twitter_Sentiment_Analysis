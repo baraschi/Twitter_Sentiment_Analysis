{
 "cells": [
  {
   "cell_type": "code",
   "execution_count": null,
   "metadata": {},
   "outputs": [],
   "source": [
    "from constants import *\n",
    "from data_loading import *\n",
    "from data_cleaning import *\n",
    "from utils import *\n",
    "from embeddings import *\n",
    "from prediction import *\n",
    "import matplotlib.pyplot as plt\n",
    "\n",
    "#import warnings\n",
    "#warnings.filterwarnings(\"ignore\", category=DeprecationWarning)\n",
    "\n",
    "\n",
    "# load training set as DataFrame\n",
    "train = load_df(TRAIN_NEG, TRAIN_POS, TWEET, LABEL, LABEL_NEG, LABEL_POS)\n",
    "\n",
    "# load testing set as DataFrame\n",
    "test = pd.DataFrame({TWEET: load_txt(TEST_DATA)})\n",
    "\n",
    "# set patterns to remove, replace, and replace with\n",
    "to_remove = \"<user>\"\n",
    "to_replace = \"[^a-zA-Z#]\"\n",
    "replace_value = \" \""
   ]
  },
  {
   "cell_type": "code",
   "execution_count": null,
   "metadata": {},
   "outputs": [],
   "source": [
    "# clean training set\n",
    "train = clean(train, TWEET, CLEAN_TWEET, to_remove, to_replace, replace_value)\n",
    "\n",
    "#clean test set\n",
    "test = clean(test, TWEET, CLEAN_TWEET, to_remove, to_replace, replace_value)"
   ]
  },
  {
   "cell_type": "code",
   "execution_count": null,
   "metadata": {},
   "outputs": [],
   "source": [
    "train.head()"
   ]
  },
  {
   "cell_type": "markdown",
   "metadata": {},
   "source": [
    "### META functions"
   ]
  },
  {
   "cell_type": "code",
   "execution_count": null,
   "metadata": {},
   "outputs": [],
   "source": [
    "def accuracies(classifier, tweet, min_df, min_features, max_features, steps, ngram_range):\n",
    "    \"\"\" Iterates on the given parameters range and using the specified classifier, logs accuracies obtained into a\n",
    "    Dataframe\"\"\"\n",
    "    \n",
    "    features = np.arange(min_features, max_features, step=steps)\n",
    "    results = []\n",
    "    for i in ngram_range: \n",
    "        res_i = []\n",
    "        for j in features:\n",
    "            accuracy = classifier(train, test, tweets_col = tweet, ngram_range=i, max_features =j, min_df=min_df)\n",
    "            res_i.append(accuracy)\n",
    "        results.append(res_i)\n",
    "    return pd.DataFrame(results, columns=features)"
   ]
  },
  {
   "cell_type": "code",
   "execution_count": null,
   "metadata": {},
   "outputs": [],
   "source": [
    "def plot_accuracies(accs_clean, accs_noclean, legends, colors, title, axis_labels, filename):\n",
    "    nb_plots = len(accs_clean)\n",
    "    plotable_df_clean = accs_clean.transpose()\n",
    "    plotable_df_clean['nfeatures'] = plotable_df_clean.index\n",
    "\n",
    "    plotable_df_noclean = accs_noclean.transpose()\n",
    "    plotable_df_noclean['nfeatures'] = plotable_df_noclean.index\n",
    "        \n",
    "    plt.figure(figsize=(8,6))\n",
    "\n",
    "    for i in range(0, nb_plots):\n",
    "        plt.plot(plotable_df_clean[i].index, plotable_df_clean[i].values,label=legends[i] + ' (clean)',color=colors[i])\n",
    "        plt.plot(plotable_df_noclean[i].index, plotable_df_noclean[i].values,label=legends[i],color=colors[i], linestyle=':')\n",
    "        \n",
    "    plt.title(title)\n",
    "    plt.xlabel(axis_labels[0])\n",
    "    plt.ylabel(axis_labels[1])\n",
    "    plt.legend()\n",
    "    \n",
    "    if not os.path.exists(PLOTS_FOLDER):\n",
    "        os.makedirs(PLOTS_FOLDER)\n",
    "    plt.savefig(PLOTS_FOLDER + filename + '.pdf') #pdf is a better choice than png as it is vectorial"
   ]
  },
  {
   "cell_type": "markdown",
   "metadata": {},
   "source": [
    "### Bag of Words"
   ]
  },
  {
   "cell_type": "code",
   "execution_count": 8,
   "metadata": {},
   "outputs": [
    {
     "data": {
      "text/html": [
       "<div>\n",
       "<style scoped>\n",
       "    .dataframe tbody tr th:only-of-type {\n",
       "        vertical-align: middle;\n",
       "    }\n",
       "\n",
       "    .dataframe tbody tr th {\n",
       "        vertical-align: top;\n",
       "    }\n",
       "\n",
       "    .dataframe thead th {\n",
       "        text-align: right;\n",
       "    }\n",
       "</style>\n",
       "<table border=\"1\" class=\"dataframe\">\n",
       "  <thead>\n",
       "    <tr style=\"text-align: right;\">\n",
       "      <th></th>\n",
       "      <th>10000</th>\n",
       "      <th>20000</th>\n",
       "      <th>30000</th>\n",
       "      <th>40000</th>\n",
       "      <th>50000</th>\n",
       "      <th>60000</th>\n",
       "      <th>70000</th>\n",
       "      <th>80000</th>\n",
       "      <th>90000</th>\n",
       "      <th>100000</th>\n",
       "    </tr>\n",
       "  </thead>\n",
       "  <tbody>\n",
       "    <tr>\n",
       "      <th>0</th>\n",
       "      <td>0.783717</td>\n",
       "      <td>0.785617</td>\n",
       "      <td>0.785867</td>\n",
       "      <td>0.786450</td>\n",
       "      <td>0.786417</td>\n",
       "      <td>0.786500</td>\n",
       "      <td>0.78660</td>\n",
       "      <td>0.786450</td>\n",
       "      <td>0.786450</td>\n",
       "      <td>0.786450</td>\n",
       "    </tr>\n",
       "    <tr>\n",
       "      <th>1</th>\n",
       "      <td>0.787800</td>\n",
       "      <td>0.791967</td>\n",
       "      <td>0.792550</td>\n",
       "      <td>0.793317</td>\n",
       "      <td>0.793600</td>\n",
       "      <td>0.794217</td>\n",
       "      <td>0.79450</td>\n",
       "      <td>0.794850</td>\n",
       "      <td>0.795350</td>\n",
       "      <td>0.795783</td>\n",
       "    </tr>\n",
       "    <tr>\n",
       "      <th>2</th>\n",
       "      <td>0.787917</td>\n",
       "      <td>0.791067</td>\n",
       "      <td>0.792117</td>\n",
       "      <td>0.792483</td>\n",
       "      <td>0.793483</td>\n",
       "      <td>0.794033</td>\n",
       "      <td>0.79465</td>\n",
       "      <td>0.795017</td>\n",
       "      <td>0.794833</td>\n",
       "      <td>0.795383</td>\n",
       "    </tr>\n",
       "  </tbody>\n",
       "</table>\n",
       "</div>"
      ],
      "text/plain": [
       "     10000     20000     30000     40000     50000     60000    70000   \\\n",
       "0  0.783717  0.785617  0.785867  0.786450  0.786417  0.786500  0.78660   \n",
       "1  0.787800  0.791967  0.792550  0.793317  0.793600  0.794217  0.79450   \n",
       "2  0.787917  0.791067  0.792117  0.792483  0.793483  0.794033  0.79465   \n",
       "\n",
       "     80000     90000     100000  \n",
       "0  0.786450  0.786450  0.786450  \n",
       "1  0.794850  0.795350  0.795783  \n",
       "2  0.795017  0.794833  0.795383  "
      ]
     },
     "execution_count": 8,
     "metadata": {},
     "output_type": "execute_result"
    }
   ],
   "source": [
    "bow_accs_clean = accuracies(classify_bow,CLEAN_TWEET, min_df=1, min_features=10000, max_features=110000, \n",
    "                              steps=10000, ngram_range=[(1,1), (1,2), (1,3)])\n",
    "bow_accs_clean"
   ]
  },
  {
   "cell_type": "code",
   "execution_count": 9,
   "metadata": {},
   "outputs": [
    {
     "data": {
      "text/html": [
       "<div>\n",
       "<style scoped>\n",
       "    .dataframe tbody tr th:only-of-type {\n",
       "        vertical-align: middle;\n",
       "    }\n",
       "\n",
       "    .dataframe tbody tr th {\n",
       "        vertical-align: top;\n",
       "    }\n",
       "\n",
       "    .dataframe thead th {\n",
       "        text-align: right;\n",
       "    }\n",
       "</style>\n",
       "<table border=\"1\" class=\"dataframe\">\n",
       "  <thead>\n",
       "    <tr style=\"text-align: right;\">\n",
       "      <th></th>\n",
       "      <th>10000</th>\n",
       "      <th>20000</th>\n",
       "      <th>30000</th>\n",
       "      <th>40000</th>\n",
       "      <th>50000</th>\n",
       "      <th>60000</th>\n",
       "      <th>70000</th>\n",
       "      <th>80000</th>\n",
       "      <th>90000</th>\n",
       "      <th>100000</th>\n",
       "    </tr>\n",
       "  </thead>\n",
       "  <tbody>\n",
       "    <tr>\n",
       "      <th>0</th>\n",
       "      <td>0.789383</td>\n",
       "      <td>0.791350</td>\n",
       "      <td>0.792333</td>\n",
       "      <td>0.792900</td>\n",
       "      <td>0.792833</td>\n",
       "      <td>0.793233</td>\n",
       "      <td>0.792917</td>\n",
       "      <td>0.79300</td>\n",
       "      <td>0.792867</td>\n",
       "      <td>0.792917</td>\n",
       "    </tr>\n",
       "    <tr>\n",
       "      <th>1</th>\n",
       "      <td>0.793933</td>\n",
       "      <td>0.798817</td>\n",
       "      <td>0.800550</td>\n",
       "      <td>0.800950</td>\n",
       "      <td>0.801383</td>\n",
       "      <td>0.801517</td>\n",
       "      <td>0.802050</td>\n",
       "      <td>0.80245</td>\n",
       "      <td>0.802717</td>\n",
       "      <td>0.802483</td>\n",
       "    </tr>\n",
       "    <tr>\n",
       "      <th>2</th>\n",
       "      <td>0.793583</td>\n",
       "      <td>0.797833</td>\n",
       "      <td>0.798983</td>\n",
       "      <td>0.799933</td>\n",
       "      <td>0.800883</td>\n",
       "      <td>0.801633</td>\n",
       "      <td>0.801733</td>\n",
       "      <td>0.80170</td>\n",
       "      <td>0.802517</td>\n",
       "      <td>0.802683</td>\n",
       "    </tr>\n",
       "  </tbody>\n",
       "</table>\n",
       "</div>"
      ],
      "text/plain": [
       "     10000     20000     30000     40000     50000     60000     70000   \\\n",
       "0  0.789383  0.791350  0.792333  0.792900  0.792833  0.793233  0.792917   \n",
       "1  0.793933  0.798817  0.800550  0.800950  0.801383  0.801517  0.802050   \n",
       "2  0.793583  0.797833  0.798983  0.799933  0.800883  0.801633  0.801733   \n",
       "\n",
       "    80000     90000     100000  \n",
       "0  0.79300  0.792867  0.792917  \n",
       "1  0.80245  0.802717  0.802483  \n",
       "2  0.80170  0.802517  0.802683  "
      ]
     },
     "execution_count": 9,
     "metadata": {},
     "output_type": "execute_result"
    }
   ],
   "source": [
    "bow_accs_noclean = accuracies(classify_bow,TWEET, min_df=1, min_features=10000, max_features=110000, \n",
    "                              steps=10000, ngram_range=[(1,1), (1,2), (1,3)])\n",
    "bow_accs_noclean"
   ]
  },
  {
   "cell_type": "code",
   "execution_count": 10,
   "metadata": {},
   "outputs": [
    {
     "data": {
      "image/png": "[encoded data removed]",
      "text/plain": [
       "<matplotlib.figure.Figure at 0x1b72c8de6a0>"
      ]
     },
     "metadata": {},
     "output_type": "display_data"
    }
   ],
   "source": [
    "plot_accuracies(\n",
    "    bow_accs_clean,\n",
    "    bow_accs_noclean,\n",
    "    legends = ['unigram bow vectorizer', 'bigram bow vectorizer', 'trigram bow vectorizer'],\n",
    "    colors = ['royalblue', 'orangered', 'gold'],\n",
    "    title = 'Accuracy BOW N-gram(1~3)',\n",
    "    axis_labels =['Number of features','Validation set accuracy'],\n",
    "    filename = \"plot_bow\"\n",
    ")"
   ]
  },
  {
   "cell_type": "markdown",
   "metadata": {},
   "source": [
    "### TF IDF"
   ]
  },
  {
   "cell_type": "code",
   "execution_count": 11,
   "metadata": {},
   "outputs": [
    {
     "data": {
      "text/html": [
       "<div>\n",
       "<style scoped>\n",
       "    .dataframe tbody tr th:only-of-type {\n",
       "        vertical-align: middle;\n",
       "    }\n",
       "\n",
       "    .dataframe tbody tr th {\n",
       "        vertical-align: top;\n",
       "    }\n",
       "\n",
       "    .dataframe thead th {\n",
       "        text-align: right;\n",
       "    }\n",
       "</style>\n",
       "<table border=\"1\" class=\"dataframe\">\n",
       "  <thead>\n",
       "    <tr style=\"text-align: right;\">\n",
       "      <th></th>\n",
       "      <th>10000</th>\n",
       "      <th>20000</th>\n",
       "      <th>30000</th>\n",
       "      <th>40000</th>\n",
       "      <th>50000</th>\n",
       "      <th>60000</th>\n",
       "      <th>70000</th>\n",
       "      <th>80000</th>\n",
       "      <th>90000</th>\n",
       "      <th>100000</th>\n",
       "    </tr>\n",
       "  </thead>\n",
       "  <tbody>\n",
       "    <tr>\n",
       "      <th>0</th>\n",
       "      <td>0.783067</td>\n",
       "      <td>0.78395</td>\n",
       "      <td>0.784367</td>\n",
       "      <td>0.784367</td>\n",
       "      <td>0.784717</td>\n",
       "      <td>0.784417</td>\n",
       "      <td>0.784767</td>\n",
       "      <td>0.784967</td>\n",
       "      <td>0.784967</td>\n",
       "      <td>0.784967</td>\n",
       "    </tr>\n",
       "    <tr>\n",
       "      <th>1</th>\n",
       "      <td>0.788267</td>\n",
       "      <td>0.79070</td>\n",
       "      <td>0.791983</td>\n",
       "      <td>0.792750</td>\n",
       "      <td>0.793017</td>\n",
       "      <td>0.793300</td>\n",
       "      <td>0.794133</td>\n",
       "      <td>0.794367</td>\n",
       "      <td>0.794650</td>\n",
       "      <td>0.794683</td>\n",
       "    </tr>\n",
       "    <tr>\n",
       "      <th>2</th>\n",
       "      <td>0.787950</td>\n",
       "      <td>0.79020</td>\n",
       "      <td>0.792283</td>\n",
       "      <td>0.792467</td>\n",
       "      <td>0.793167</td>\n",
       "      <td>0.793033</td>\n",
       "      <td>0.793650</td>\n",
       "      <td>0.794233</td>\n",
       "      <td>0.794233</td>\n",
       "      <td>0.794317</td>\n",
       "    </tr>\n",
       "  </tbody>\n",
       "</table>\n",
       "</div>"
      ],
      "text/plain": [
       "     10000    20000     30000     40000     50000     60000     70000   \\\n",
       "0  0.783067  0.78395  0.784367  0.784367  0.784717  0.784417  0.784767   \n",
       "1  0.788267  0.79070  0.791983  0.792750  0.793017  0.793300  0.794133   \n",
       "2  0.787950  0.79020  0.792283  0.792467  0.793167  0.793033  0.793650   \n",
       "\n",
       "     80000     90000     100000  \n",
       "0  0.784967  0.784967  0.784967  \n",
       "1  0.794367  0.794650  0.794683  \n",
       "2  0.794233  0.794233  0.794317  "
      ]
     },
     "execution_count": 11,
     "metadata": {},
     "output_type": "execute_result"
    }
   ],
   "source": [
    "tfidf_accs_clean = accuracies(classify_tfidf,CLEAN_TWEET, min_df=1, min_features=10000, max_features=110000, \n",
    "                              steps=10000, ngram_range=[(1,1), (1,2), (1,3)])\n",
    "tfidf_accs_clean"
   ]
  },
  {
   "cell_type": "code",
   "execution_count": 12,
   "metadata": {},
   "outputs": [
    {
     "data": {
      "text/html": [
       "<div>\n",
       "<style scoped>\n",
       "    .dataframe tbody tr th:only-of-type {\n",
       "        vertical-align: middle;\n",
       "    }\n",
       "\n",
       "    .dataframe tbody tr th {\n",
       "        vertical-align: top;\n",
       "    }\n",
       "\n",
       "    .dataframe thead th {\n",
       "        text-align: right;\n",
       "    }\n",
       "</style>\n",
       "<table border=\"1\" class=\"dataframe\">\n",
       "  <thead>\n",
       "    <tr style=\"text-align: right;\">\n",
       "      <th></th>\n",
       "      <th>10000</th>\n",
       "      <th>20000</th>\n",
       "      <th>30000</th>\n",
       "      <th>40000</th>\n",
       "      <th>50000</th>\n",
       "      <th>60000</th>\n",
       "      <th>70000</th>\n",
       "      <th>80000</th>\n",
       "      <th>90000</th>\n",
       "      <th>100000</th>\n",
       "    </tr>\n",
       "  </thead>\n",
       "  <tbody>\n",
       "    <tr>\n",
       "      <th>0</th>\n",
       "      <td>0.788033</td>\n",
       "      <td>0.789650</td>\n",
       "      <td>0.790483</td>\n",
       "      <td>0.790950</td>\n",
       "      <td>0.790917</td>\n",
       "      <td>0.790467</td>\n",
       "      <td>0.790500</td>\n",
       "      <td>0.790750</td>\n",
       "      <td>0.790983</td>\n",
       "      <td>0.790633</td>\n",
       "    </tr>\n",
       "    <tr>\n",
       "      <th>1</th>\n",
       "      <td>0.795117</td>\n",
       "      <td>0.798883</td>\n",
       "      <td>0.800083</td>\n",
       "      <td>0.800867</td>\n",
       "      <td>0.800733</td>\n",
       "      <td>0.801617</td>\n",
       "      <td>0.801967</td>\n",
       "      <td>0.802400</td>\n",
       "      <td>0.802583</td>\n",
       "      <td>0.802367</td>\n",
       "    </tr>\n",
       "    <tr>\n",
       "      <th>2</th>\n",
       "      <td>0.794150</td>\n",
       "      <td>0.798300</td>\n",
       "      <td>0.799633</td>\n",
       "      <td>0.800867</td>\n",
       "      <td>0.801417</td>\n",
       "      <td>0.801950</td>\n",
       "      <td>0.802250</td>\n",
       "      <td>0.802183</td>\n",
       "      <td>0.802433</td>\n",
       "      <td>0.802617</td>\n",
       "    </tr>\n",
       "  </tbody>\n",
       "</table>\n",
       "</div>"
      ],
      "text/plain": [
       "     10000     20000     30000     40000     50000     60000     70000   \\\n",
       "0  0.788033  0.789650  0.790483  0.790950  0.790917  0.790467  0.790500   \n",
       "1  0.795117  0.798883  0.800083  0.800867  0.800733  0.801617  0.801967   \n",
       "2  0.794150  0.798300  0.799633  0.800867  0.801417  0.801950  0.802250   \n",
       "\n",
       "     80000     90000     100000  \n",
       "0  0.790750  0.790983  0.790633  \n",
       "1  0.802400  0.802583  0.802367  \n",
       "2  0.802183  0.802433  0.802617  "
      ]
     },
     "execution_count": 12,
     "metadata": {},
     "output_type": "execute_result"
    }
   ],
   "source": [
    "tfidf_accs_noclean = accuracies(classify_tfidf,TWEET, min_df=1, min_features=10000, max_features=110000, \n",
    "                              steps=10000, ngram_range=[(1,1), (1,2), (1,3)])\n",
    "tfidf_accs_noclean"
   ]
  },
  {
   "cell_type": "code",
   "execution_count": 13,
   "metadata": {},
   "outputs": [
    {
     "data": {
      "image/png": "[encoded data removed]",
      "text/plain": [
       "<matplotlib.figure.Figure at 0x1b72b9b6b00>"
      ]
     },
     "metadata": {},
     "output_type": "display_data"
    }
   ],
   "source": [
    "plot_accuracies(\n",
    "    tfidf_accs_clean,\n",
    "    tfidf_accs_noclean,\n",
    "    legends = ['unigram tfidf vectorizer', 'bigram tfidf vectorizer', 'trigram tfidf vectorizer'],\n",
    "    colors = ['royalblue', 'orangered', 'gold'],\n",
    "    title = 'Accuracy TF-IDF N-gram(1~3)',\n",
    "    axis_labels =['Number of features','Validation set accuracy'],\n",
    "    filename = \"plot_tfidf\"\n",
    ")"
   ]
  },
  {
   "cell_type": "markdown",
   "metadata": {},
   "source": [
    "### Fasttext (prediction)"
   ]
  },
  {
   "cell_type": "markdown",
   "metadata": {},
   "source": [
    "#### on \"clean_tweet\""
   ]
  },
  {
   "cell_type": "code",
   "execution_count": null,
   "metadata": {
    "scrolled": true
   },
   "outputs": [
    {
     "name": "stdout",
     "output_type": "stream",
     "text": [
      "\u001b[1mclassifying:\u001b[0m 40.0%, best_acc=0.780933333333333409333333333334"
     ]
    }
   ],
   "source": [
    "classify_fasttext(train, test, tweets_col = CLEAN_TWEET, max_iter = 50)"
   ]
  },
  {
   "cell_type": "markdown",
   "metadata": {},
   "source": [
    "#### on \"tweet\""
   ]
  },
  {
   "cell_type": "code",
   "execution_count": null,
   "metadata": {},
   "outputs": [],
   "source": [
    "classify_fasttext(train, test, tweets_col = TWEET, max_iter = 50)"
   ]
  },
  {
   "cell_type": "code",
   "execution_count": null,
   "metadata": {},
   "outputs": [],
   "source": []
  }
 ],
 "metadata": {
  "kernelspec": {
   "display_name": "Python 3",
   "language": "python",
   "name": "python3"
  },
  "language_info": {
   "codemirror_mode": {
    "name": "ipython",
    "version": 3
   },
   "file_extension": ".py",
   "mimetype": "text/x-python",
   "name": "python",
   "nbconvert_exporter": "python",
   "pygments_lexer": "ipython3",
   "version": "3.6.4"
  }
 },
 "nbformat": 4,
 "nbformat_minor": 2
}
